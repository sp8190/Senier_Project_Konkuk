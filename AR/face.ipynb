{
 "cells": [
  {
   "cell_type": "code",
   "execution_count": 5,
   "id": "86c263b2",
   "metadata": {},
   "outputs": [
    {
     "ename": "KeyboardInterrupt",
     "evalue": "",
     "output_type": "error",
     "traceback": [
      "\u001b[1;31m---------------------------------------------------------------------------\u001b[0m",
      "\u001b[1;31mKeyboardInterrupt\u001b[0m                         Traceback (most recent call last)",
      "\u001b[1;32m<ipython-input-5-b7af33f16c3c>\u001b[0m in \u001b[0;36m<module>\u001b[1;34m\u001b[0m\n\u001b[0;32m     23\u001b[0m     True, crop=False)\n\u001b[0;32m     24\u001b[0m     \u001b[0mYOLO_net\u001b[0m\u001b[1;33m.\u001b[0m\u001b[0msetInput\u001b[0m\u001b[1;33m(\u001b[0m\u001b[0mblob\u001b[0m\u001b[1;33m)\u001b[0m\u001b[1;33m\u001b[0m\u001b[1;33m\u001b[0m\u001b[0m\n\u001b[1;32m---> 25\u001b[1;33m     \u001b[0mouts\u001b[0m \u001b[1;33m=\u001b[0m \u001b[0mYOLO_net\u001b[0m\u001b[1;33m.\u001b[0m\u001b[0mforward\u001b[0m\u001b[1;33m(\u001b[0m\u001b[0moutput_layers\u001b[0m\u001b[1;33m)\u001b[0m\u001b[1;33m\u001b[0m\u001b[1;33m\u001b[0m\u001b[0m\n\u001b[0m\u001b[0;32m     26\u001b[0m \u001b[1;33m\u001b[0m\u001b[0m\n\u001b[0;32m     27\u001b[0m     \u001b[0mclass_ids\u001b[0m \u001b[1;33m=\u001b[0m \u001b[1;33m[\u001b[0m\u001b[1;33m]\u001b[0m\u001b[1;33m\u001b[0m\u001b[1;33m\u001b[0m\u001b[0m\n",
      "\u001b[1;31mKeyboardInterrupt\u001b[0m: "
     ]
    }
   ],
   "source": [
    "\n",
    "import cv2\n",
    "import numpy as np\n",
    "\n",
    "# 웹캠 신호 받기\n",
    "VideoSignal = cv2.VideoCapture(0)\n",
    "# YOLO 가중치 파일과 CFG 파일 로드\n",
    "YOLO_net = cv2.dnn.readNet(\"yolov3.weights\",\"yolov3.cfg\")\n",
    "\n",
    "# YOLO NETWORK 재구성\n",
    "classes = []\n",
    "with open(\"coco.names\", \"r\") as f:\n",
    "    classes = [line.strip() for line in f.readlines()]\n",
    "layer_names = YOLO_net.getLayerNames()\n",
    "output_layers = [layer_names[i[0] - 1] for i in YOLO_net.getUnconnectedOutLayers()]\n",
    "\n",
    "while True:\n",
    "    # 웹캠 프레임\n",
    "    ret, frame = VideoSignal.read()\n",
    "    h, w, c = frame.shape\n",
    "\n",
    "    # YOLO 입력\n",
    "    blob = cv2.dnn.blobFromImage(frame, 0.00392, (416, 416), (0, 0, 0),\n",
    "    True, crop=False)\n",
    "    YOLO_net.setInput(blob)\n",
    "    outs = YOLO_net.forward(output_layers)\n",
    "\n",
    "    class_ids = []\n",
    "    confidences = []\n",
    "    boxes = []\n",
    "\n",
    "    for out in outs:\n",
    "\n",
    "        for detection in out:\n",
    "\n",
    "            scores = detection[5:]\n",
    "            class_id = np.argmax(scores)\n",
    "            confidence = scores[class_id]\n",
    "\n",
    "            if confidence > 0.5:\n",
    "                # Object detected\n",
    "                center_x = int(detection[0] * w)\n",
    "                center_y = int(detection[1] * h)\n",
    "                dw = int(detection[2] * w)\n",
    "                dh = int(detection[3] * h)\n",
    "                # Rectangle coordinate\n",
    "                x = int(center_x - dw / 2)\n",
    "                y = int(center_y - dh / 2)\n",
    "                boxes.append([x, y, dw, dh])\n",
    "                confidences.append(float(confidence))\n",
    "                class_ids.append(class_id)\n",
    "\n",
    "    indexes = cv2.dnn.NMSBoxes(boxes, confidences, 0.45, 0.4)\n",
    "\n",
    "\n",
    "    for i in range(len(boxes)):\n",
    "        if i in indexes:\n",
    "            x, y, w, h = boxes[i]\n",
    "            label = str(classes[class_ids[i]])\n",
    "            score = confidences[i]\n",
    "\n",
    "            # 경계상자와 클래스 정보 이미지에 입력\n",
    "            cv2.rectangle(frame, (x, y), (x + w, y + h), (0, 0, 255), 5)\n",
    "            cv2.putText(frame, label, (x, y - 20), cv2.FONT_ITALIC, 0.5, \n",
    "            (255, 255, 255), 1)\n",
    "\n",
    "    cv2.imshow(\"YOLOv3\", frame)\n",
    "\n",
    "    if cv2.waitKey(100) > 0:\n",
    "        break"
   ]
  },
  {
   "cell_type": "code",
   "execution_count": null,
   "id": "6ef24412",
   "metadata": {},
   "outputs": [],
   "source": []
  }
 ],
 "metadata": {
  "kernelspec": {
   "display_name": "Python 3",
   "language": "python",
   "name": "python3"
  },
  "language_info": {
   "codemirror_mode": {
    "name": "ipython",
    "version": 3
   },
   "file_extension": ".py",
   "mimetype": "text/x-python",
   "name": "python",
   "nbconvert_exporter": "python",
   "pygments_lexer": "ipython3",
   "version": "3.8.8"
  }
 },
 "nbformat": 4,
 "nbformat_minor": 5
}
